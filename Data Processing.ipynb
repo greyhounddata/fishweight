{
 "cells": [
  {
   "cell_type": "markdown",
   "id": "2337a2eb",
   "metadata": {},
   "source": [
    "# Data Processing"
   ]
  },
  {
   "cell_type": "code",
   "execution_count": 1,
   "id": "59092d8f",
   "metadata": {},
   "outputs": [],
   "source": [
    "#imports\n",
    "import matplotlib.pyplot as plt\n",
    "import pandas as pd\n",
    "from sklearn.model_selection import train_test_split"
   ]
  },
  {
   "cell_type": "code",
   "execution_count": 2,
   "id": "2b47d2dd",
   "metadata": {},
   "outputs": [],
   "source": [
    "#Read in\n",
    "df = pd.read_csv(\"data/Fish.csv\")\n",
    "#One hot encode the species\n",
    "df1 = pd.get_dummies(df)\n",
    "#We only want some of the columns. For our use case we have decided to drop some of the lengths.\n",
    "df1 = df1[['Weight', 'Length1', 'Length3',\n",
    "       'Species_Bream', 'Species_Parkki', 'Species_Perch', 'Species_Pike',\n",
    "       'Species_Roach', 'Species_Smelt', 'Species_Whitefish']]\n",
    "#Save the dataset\n",
    "df1.to_csv('data/processed_data.csv', index=False)\n",
    "#Create training and holdout(sometimes called test) dataset\n",
    "#It is good to save these down for reproducibility\n"
   ]
  },
  {
   "cell_type": "code",
   "execution_count": 3,
   "id": "4dd8c062",
   "metadata": {},
   "outputs": [],
   "source": [
    "#Stratify based on species. Some are under-represented.\n",
    "train, test = train_test_split(df1, random_state=1, stratify=df['Species'])"
   ]
  },
  {
   "cell_type": "code",
   "execution_count": 4,
   "id": "520e4954",
   "metadata": {},
   "outputs": [],
   "source": [
    "train.to_csv('data/train.csv', index=False)"
   ]
  },
  {
   "cell_type": "code",
   "execution_count": 5,
   "id": "05ae0137",
   "metadata": {},
   "outputs": [],
   "source": [
    "test.to_csv('data/test.csv', index=False)"
   ]
  }
 ],
 "metadata": {
  "kernelspec": {
   "display_name": "Python 3.10.6 64-bit ('3.10.6')",
   "language": "python",
   "name": "python3"
  },
  "language_info": {
   "codemirror_mode": {
    "name": "ipython",
    "version": 3
   },
   "file_extension": ".py",
   "mimetype": "text/x-python",
   "name": "python",
   "nbconvert_exporter": "python",
   "pygments_lexer": "ipython3",
   "version": "3.10.6"
  },
  "vscode": {
   "interpreter": {
    "hash": "7ce83677e8e2d5603e58c7575ce9a64c96b6f08ebcc7c21f0772777de1c925f2"
   }
  }
 },
 "nbformat": 4,
 "nbformat_minor": 5
}
