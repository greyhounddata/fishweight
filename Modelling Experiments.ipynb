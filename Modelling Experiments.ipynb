{
 "cells": [
  {
   "cell_type": "markdown",
   "id": "02a2c57e",
   "metadata": {},
   "source": [
    "# Modelling Experiments \n",
    "\n",
    "In this notebook we begin some basic modelling for our problem of predicting fish weight based on various measurements of fish length. \n",
    "\n",
    "We will compare a few different regression methods, and decide on what type(s) of model we wish to use with a rough idea on its potential performance, but we will not train the final model within this notebook. \n",
    "\n",
    "We can see this as setting a baseline which is a crucial part of ML workflow."
   ]
  },
  {
   "cell_type": "code",
   "execution_count": 36,
   "id": "f5ef8a46",
   "metadata": {},
   "outputs": [],
   "source": [
    "#imports\n",
    "import pandas as pd\n",
    "import matplotlib.pyplot as plt\n",
    "from sklearn.model_selection import train_test_split\n",
    "from sklearn.linear_model import LinearRegression\n",
    "from sklearn.ensemble import GradientBoostingRegressor\n",
    "from sklearn.metrics import r2_score, mean_absolute_error,  mean_squared_error"
   ]
  },
  {
   "cell_type": "code",
   "execution_count": 29,
   "id": "52feca9a",
   "metadata": {},
   "outputs": [
    {
     "data": {
      "text/html": [
       "<div>\n",
       "<style scoped>\n",
       "    .dataframe tbody tr th:only-of-type {\n",
       "        vertical-align: middle;\n",
       "    }\n",
       "\n",
       "    .dataframe tbody tr th {\n",
       "        vertical-align: top;\n",
       "    }\n",
       "\n",
       "    .dataframe thead th {\n",
       "        text-align: right;\n",
       "    }\n",
       "</style>\n",
       "<table border=\"1\" class=\"dataframe\">\n",
       "  <thead>\n",
       "    <tr style=\"text-align: right;\">\n",
       "      <th></th>\n",
       "      <th>Species</th>\n",
       "      <th>Weight</th>\n",
       "      <th>Length1</th>\n",
       "      <th>Length2</th>\n",
       "      <th>Length3</th>\n",
       "      <th>Height</th>\n",
       "      <th>Width</th>\n",
       "    </tr>\n",
       "  </thead>\n",
       "  <tbody>\n",
       "    <tr>\n",
       "      <th>0</th>\n",
       "      <td>Bream</td>\n",
       "      <td>242.0</td>\n",
       "      <td>23.2</td>\n",
       "      <td>25.4</td>\n",
       "      <td>30.0</td>\n",
       "      <td>11.5200</td>\n",
       "      <td>4.0200</td>\n",
       "    </tr>\n",
       "    <tr>\n",
       "      <th>1</th>\n",
       "      <td>Bream</td>\n",
       "      <td>290.0</td>\n",
       "      <td>24.0</td>\n",
       "      <td>26.3</td>\n",
       "      <td>31.2</td>\n",
       "      <td>12.4800</td>\n",
       "      <td>4.3056</td>\n",
       "    </tr>\n",
       "    <tr>\n",
       "      <th>2</th>\n",
       "      <td>Bream</td>\n",
       "      <td>340.0</td>\n",
       "      <td>23.9</td>\n",
       "      <td>26.5</td>\n",
       "      <td>31.1</td>\n",
       "      <td>12.3778</td>\n",
       "      <td>4.6961</td>\n",
       "    </tr>\n",
       "    <tr>\n",
       "      <th>3</th>\n",
       "      <td>Bream</td>\n",
       "      <td>363.0</td>\n",
       "      <td>26.3</td>\n",
       "      <td>29.0</td>\n",
       "      <td>33.5</td>\n",
       "      <td>12.7300</td>\n",
       "      <td>4.4555</td>\n",
       "    </tr>\n",
       "    <tr>\n",
       "      <th>4</th>\n",
       "      <td>Bream</td>\n",
       "      <td>430.0</td>\n",
       "      <td>26.5</td>\n",
       "      <td>29.0</td>\n",
       "      <td>34.0</td>\n",
       "      <td>12.4440</td>\n",
       "      <td>5.1340</td>\n",
       "    </tr>\n",
       "  </tbody>\n",
       "</table>\n",
       "</div>"
      ],
      "text/plain": [
       "  Species  Weight  Length1  Length2  Length3   Height   Width\n",
       "0   Bream   242.0     23.2     25.4     30.0  11.5200  4.0200\n",
       "1   Bream   290.0     24.0     26.3     31.2  12.4800  4.3056\n",
       "2   Bream   340.0     23.9     26.5     31.1  12.3778  4.6961\n",
       "3   Bream   363.0     26.3     29.0     33.5  12.7300  4.4555\n",
       "4   Bream   430.0     26.5     29.0     34.0  12.4440  5.1340"
      ]
     },
     "execution_count": 29,
     "metadata": {},
     "output_type": "execute_result"
    }
   ],
   "source": [
    "#Read in\n",
    "df = pd.read_csv(\"data/Fish.csv\")\n",
    "df.head()"
   ]
  },
  {
   "cell_type": "markdown",
   "id": "95e05bbb",
   "metadata": {},
   "source": [
    "The Species column contains strings. The Species is a categorical variable. There is no ordinal relationship between species of fish and so ordinal encoding is not appropriate. Instead we use one-hot encoding."
   ]
  },
  {
   "cell_type": "code",
   "execution_count": 30,
   "id": "77d861b0",
   "metadata": {},
   "outputs": [],
   "source": [
    "df = pd.get_dummies(df)"
   ]
  },
  {
   "cell_type": "code",
   "execution_count": 31,
   "id": "3ee6df10",
   "metadata": {},
   "outputs": [],
   "source": [
    "y = df['Weight']\n",
    "X = df.drop(['Weight'], axis=1)"
   ]
  },
  {
   "cell_type": "code",
   "execution_count": 32,
   "id": "5c86a704",
   "metadata": {},
   "outputs": [],
   "source": [
    "X_train, X_test, y_train, y_test = train_test_split( X, y, test_size=0.33, random_state=1)"
   ]
  },
  {
   "cell_type": "code",
   "execution_count": 33,
   "id": "52b8d39b",
   "metadata": {},
   "outputs": [],
   "source": [
    "reg = LinearRegression().fit(X_train, y_train)\n",
    "y_pred = reg.predict(X_test)"
   ]
  },
  {
   "cell_type": "code",
   "execution_count": 34,
   "id": "c974f823",
   "metadata": {},
   "outputs": [
    {
     "name": "stdout",
     "output_type": "stream",
     "text": [
      "r2: 0.9012475959051086, MAE: 87.04429070346575, MSE: 11107.667607870422\n"
     ]
    }
   ],
   "source": [
    "lin_reg_r2 = r2_score(y_test, y_pred)\n",
    "lin_reg_mae = mean_absolute_error(y_test, y_pred)\n",
    "lin_reg_mse = mean_squared_error(y_test, y_pred)\n",
    "\n",
    "print(\"Lin Reg... r2: {}, MAE: {}, MSE: {}\".format(lin_reg_r2, lin_reg_mae, lin_reg_mse))"
   ]
  },
  {
   "cell_type": "markdown",
   "id": "d2467639",
   "metadata": {},
   "source": [
    "These metrics suggest a good performance from linear regression. There may also be advantages in terms of interpretability for using a simple model.\n",
    "\n",
    "We will experiment with a more complicated model."
   ]
  },
  {
   "cell_type": "code",
   "execution_count": 38,
   "id": "3b113991",
   "metadata": {},
   "outputs": [],
   "source": [
    "gb_reg = GradientBoostingRegressor().fit(X_train, y_train)\n",
    "y_pred_gb = gb_reg.predict(X_test)"
   ]
  },
  {
   "cell_type": "code",
   "execution_count": 50,
   "id": "013d7280",
   "metadata": {},
   "outputs": [
    {
     "name": "stdout",
     "output_type": "stream",
     "text": [
      "GradientBoost Reg... r2: 0.9511407473156664, MAE: 46.467677894439426, MSE: 5495.687354254525\n"
     ]
    }
   ],
   "source": [
    "gb_reg_r2 = r2_score(y_test, y_pred_gb)\n",
    "gb_reg_mae = mean_absolute_error(y_test, y_pred_gb)\n",
    "gb_reg_mse = mean_squared_error(y_test, y_pred_gb)\n",
    "\n",
    "print(\"GradientBoost Reg... r2: {}, MAE: {}, MSE: {}\".format(gb_reg_r2, gb_reg_mae, gb_reg_mse))"
   ]
  },
  {
   "cell_type": "markdown",
   "id": "3afb78e8",
   "metadata": {},
   "source": [
    "We see that the more complicated model (GradientBoostingRegressor) performs better than the linear regression. At this stage we have not done any work on tuning or optimisation, we are simply trying to get some baseline numbers and use this information to guide where we should spend effort in future. "
   ]
  },
  {
   "cell_type": "markdown",
   "id": "824d5a33",
   "metadata": {},
   "source": [
    "I am interested to see the performance if we remove some of the variables, in particular the height and width."
   ]
  },
  {
   "cell_type": "code",
   "execution_count": 55,
   "id": "021233bc",
   "metadata": {},
   "outputs": [
    {
     "name": "stdout",
     "output_type": "stream",
     "text": [
      "GradientBoost Reg Reduced Columns... r2: 0.9537481798006965, MAE: 41.78235851858404, MSE: 5202.403422393519\n"
     ]
    }
   ],
   "source": [
    "reduced_columns = ['Length1', 'Length3', 'Species_Bream',\n",
    "       'Species_Parkki', 'Species_Perch', 'Species_Pike', 'Species_Roach',\n",
    "       'Species_Smelt', 'Species_Whitefish']\n",
    "gb_reg = GradientBoostingRegressor().fit(X_train[reduced_columns], y_train)\n",
    "y_pred_gb = gb_reg.predict(X_test[reduced_columns])\n",
    "\n",
    "\n",
    "gb_reg_r2 = r2_score(y_test, y_pred_gb)\n",
    "gb_reg_mae = mean_absolute_error(y_test, y_pred_gb)\n",
    "gb_reg_mse = mean_squared_error(y_test, y_pred_gb)\n",
    "\n",
    "print(\"GradientBoost Reg Reduced Columns... r2: {}, MAE: {}, MSE: {}\".format(gb_reg_r2, gb_reg_mae, gb_reg_mse))"
   ]
  },
  {
   "cell_type": "markdown",
   "id": "705fb058",
   "metadata": {},
   "source": [
    "On this split it actually seems to be performing better with just Length 1 and Length 3. \n",
    "\n",
    "It seems that using only Length1, Length 3 and Species, we are getting similar performance to using all 6 variables. It is my preference to use fewer variables for aesthetic reasons as for this project the final part will be an interactive web app where the user can submit fish measurements and get a prediction for the fish weight. Visually having 3 lengths along with Height and Width will be too cluttered. \n",
    "\n",
    "The two measurements we are keeping also seem to be the most natural and easiest to interpret. \n",
    "\n"
   ]
  }
 ],
 "metadata": {
  "kernelspec": {
   "display_name": "Python 3.10.6 64-bit ('3.10.6')",
   "language": "python",
   "name": "python3"
  },
  "language_info": {
   "codemirror_mode": {
    "name": "ipython",
    "version": 3
   },
   "file_extension": ".py",
   "mimetype": "text/x-python",
   "name": "python",
   "nbconvert_exporter": "python",
   "pygments_lexer": "ipython3",
   "version": "3.10.6"
  },
  "vscode": {
   "interpreter": {
    "hash": "7ce83677e8e2d5603e58c7575ce9a64c96b6f08ebcc7c21f0772777de1c925f2"
   }
  }
 },
 "nbformat": 4,
 "nbformat_minor": 5
}
